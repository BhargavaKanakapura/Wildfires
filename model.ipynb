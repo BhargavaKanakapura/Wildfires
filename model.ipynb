{
  "cells": [
    {
      "cell_type": "code",
      "execution_count": null,
      "metadata": {
        "colab": {
          "base_uri": "https://localhost:8080/"
        },
        "id": "q74gtzZV0sgu",
        "outputId": "1e8bc227-8415-49fc-8adb-e9f30991fb87"
      },
      "outputs": [
        {
          "output_type": "stream",
          "name": "stdout",
          "text": [
            "Collecting pytorch\n",
            "  Using cached pytorch-1.0.2.tar.gz (689 bytes)\n",
            "  Preparing metadata (setup.py) ... \u001b[?25l\u001b[?25hdone\n",
            "Building wheels for collected packages: pytorch\n",
            "  \u001b[1;31merror\u001b[0m: \u001b[1msubprocess-exited-with-error\u001b[0m\n",
            "  \n",
            "  \u001b[31m×\u001b[0m \u001b[32mpython setup.py bdist_wheel\u001b[0m did not run successfully.\n",
            "  \u001b[31m│\u001b[0m exit code: \u001b[1;36m1\u001b[0m\n",
            "  \u001b[31m╰─>\u001b[0m See above for output.\n",
            "  \n",
            "  \u001b[1;35mnote\u001b[0m: This error originates from a subprocess, and is likely not a problem with pip.\n",
            "  Building wheel for pytorch (setup.py) ... \u001b[?25lerror\n",
            "\u001b[31m  ERROR: Failed building wheel for pytorch\u001b[0m\u001b[31m\n",
            "\u001b[0m\u001b[?25h  Running setup.py clean for pytorch\n",
            "Failed to build pytorch\n",
            "\u001b[31mERROR: Could not build wheels for pytorch, which is required to install pyproject.toml-based projects\u001b[0m\u001b[31m\n",
            "\u001b[0mRequirement already satisfied: segmentation_models_pytorch in /usr/local/lib/python3.10/dist-packages (0.3.3)\n",
            "Requirement already satisfied: torchvision>=0.5.0 in /usr/local/lib/python3.10/dist-packages (from segmentation_models_pytorch) (0.15.2+cu118)\n",
            "Requirement already satisfied: pretrainedmodels==0.7.4 in /usr/local/lib/python3.10/dist-packages (from segmentation_models_pytorch) (0.7.4)\n",
            "Requirement already satisfied: efficientnet-pytorch==0.7.1 in /usr/local/lib/python3.10/dist-packages (from segmentation_models_pytorch) (0.7.1)\n",
            "Requirement already satisfied: timm==0.9.2 in /usr/local/lib/python3.10/dist-packages (from segmentation_models_pytorch) (0.9.2)\n",
            "Requirement already satisfied: tqdm in /usr/local/lib/python3.10/dist-packages (from segmentation_models_pytorch) (4.66.1)\n",
            "Requirement already satisfied: pillow in /usr/local/lib/python3.10/dist-packages (from segmentation_models_pytorch) (9.4.0)\n",
            "Requirement already satisfied: torch in /usr/local/lib/python3.10/dist-packages (from efficientnet-pytorch==0.7.1->segmentation_models_pytorch) (2.0.1+cu118)\n",
            "Requirement already satisfied: munch in /usr/local/lib/python3.10/dist-packages (from pretrainedmodels==0.7.4->segmentation_models_pytorch) (4.0.0)\n",
            "Requirement already satisfied: pyyaml in /usr/local/lib/python3.10/dist-packages (from timm==0.9.2->segmentation_models_pytorch) (6.0.1)\n",
            "Requirement already satisfied: huggingface-hub in /usr/local/lib/python3.10/dist-packages (from timm==0.9.2->segmentation_models_pytorch) (0.16.4)\n",
            "Requirement already satisfied: safetensors in /usr/local/lib/python3.10/dist-packages (from timm==0.9.2->segmentation_models_pytorch) (0.3.3)\n",
            "Requirement already satisfied: numpy in /usr/local/lib/python3.10/dist-packages (from torchvision>=0.5.0->segmentation_models_pytorch) (1.23.5)\n",
            "Requirement already satisfied: requests in /usr/local/lib/python3.10/dist-packages (from torchvision>=0.5.0->segmentation_models_pytorch) (2.31.0)\n",
            "Requirement already satisfied: filelock in /usr/local/lib/python3.10/dist-packages (from torch->efficientnet-pytorch==0.7.1->segmentation_models_pytorch) (3.12.3)\n",
            "Requirement already satisfied: typing-extensions in /usr/local/lib/python3.10/dist-packages (from torch->efficientnet-pytorch==0.7.1->segmentation_models_pytorch) (4.7.1)\n",
            "Requirement already satisfied: sympy in /usr/local/lib/python3.10/dist-packages (from torch->efficientnet-pytorch==0.7.1->segmentation_models_pytorch) (1.12)\n",
            "Requirement already satisfied: networkx in /usr/local/lib/python3.10/dist-packages (from torch->efficientnet-pytorch==0.7.1->segmentation_models_pytorch) (3.1)\n",
            "Requirement already satisfied: jinja2 in /usr/local/lib/python3.10/dist-packages (from torch->efficientnet-pytorch==0.7.1->segmentation_models_pytorch) (3.1.2)\n",
            "Requirement already satisfied: triton==2.0.0 in /usr/local/lib/python3.10/dist-packages (from torch->efficientnet-pytorch==0.7.1->segmentation_models_pytorch) (2.0.0)\n",
            "Requirement already satisfied: cmake in /usr/local/lib/python3.10/dist-packages (from triton==2.0.0->torch->efficientnet-pytorch==0.7.1->segmentation_models_pytorch) (3.27.2)\n",
            "Requirement already satisfied: lit in /usr/local/lib/python3.10/dist-packages (from triton==2.0.0->torch->efficientnet-pytorch==0.7.1->segmentation_models_pytorch) (16.0.6)\n",
            "Requirement already satisfied: fsspec in /usr/local/lib/python3.10/dist-packages (from huggingface-hub->timm==0.9.2->segmentation_models_pytorch) (2023.6.0)\n",
            "Requirement already satisfied: packaging>=20.9 in /usr/local/lib/python3.10/dist-packages (from huggingface-hub->timm==0.9.2->segmentation_models_pytorch) (23.1)\n",
            "Requirement already satisfied: charset-normalizer<4,>=2 in /usr/local/lib/python3.10/dist-packages (from requests->torchvision>=0.5.0->segmentation_models_pytorch) (3.2.0)\n",
            "Requirement already satisfied: idna<4,>=2.5 in /usr/local/lib/python3.10/dist-packages (from requests->torchvision>=0.5.0->segmentation_models_pytorch) (3.4)\n",
            "Requirement already satisfied: urllib3<3,>=1.21.1 in /usr/local/lib/python3.10/dist-packages (from requests->torchvision>=0.5.0->segmentation_models_pytorch) (2.0.4)\n",
            "Requirement already satisfied: certifi>=2017.4.17 in /usr/local/lib/python3.10/dist-packages (from requests->torchvision>=0.5.0->segmentation_models_pytorch) (2023.7.22)\n",
            "Requirement already satisfied: MarkupSafe>=2.0 in /usr/local/lib/python3.10/dist-packages (from jinja2->torch->efficientnet-pytorch==0.7.1->segmentation_models_pytorch) (2.1.3)\n",
            "Requirement already satisfied: mpmath>=0.19 in /usr/local/lib/python3.10/dist-packages (from sympy->torch->efficientnet-pytorch==0.7.1->segmentation_models_pytorch) (1.3.0)\n"
          ]
        }
      ],
      "source": [
        "!pip install pytorch\n",
        "!pip install segmentation_models_pytorch"
      ]
    },
    {
      "cell_type": "code",
      "execution_count": null,
      "metadata": {
        "id": "U3prREsv05Hc"
      },
      "outputs": [],
      "source": [
        "import torch\n",
        "import torch.nn as nn\n",
        "from torch.utils.data import Dataset, DataLoader\n",
        "from torchvision import transforms\n",
        "import segmentation_models_pytorch as smp\n",
        "import os\n",
        "import numpy as np\n",
        "from random import randint\n",
        "from tqdm import tqdm\n",
        "\n",
        "CHANNELS = 7"
      ]
    },
    {
      "cell_type": "markdown",
      "metadata": {
        "id": "W_xsF2qu9L2V"
      },
      "source": [
        "#Preprocessing and Building PyTorch Dataset"
      ]
    },
    {
      "cell_type": "code",
      "execution_count": null,
      "metadata": {
        "id": "qcxOSAlW-Q2C"
      },
      "outputs": [],
      "source": [
        "class FireDataset(Dataset):\n",
        "\n",
        "    def __init__(self,\n",
        "                 input_folder, label_folder,\n",
        "                 input_transforms=transforms.ToTensor(),\n",
        "                 label_transforms=transforms.ToTensor(),\n",
        "                 label=0):\n",
        "\n",
        "        pre_files = os.listdir(input_folder)\n",
        "        post_files = os.listdir(label_folder)\n",
        "\n",
        "        self.input_files = [input_folder + '/' + path for path in pre_files]\n",
        "        self.label_files = [label_folder + '/' + path for path in post_files]\n",
        "\n",
        "        self.label_idx = label\n",
        "        self.input_transform = input_transforms\n",
        "        self.label_transform = label_transforms\n",
        "\n",
        "    def __len__(self):\n",
        "        return len(self.input_files)\n",
        "\n",
        "    def __getitem__(self, idx):\n",
        "\n",
        "        path_to_input = self.input_files[idx]\n",
        "        path_to_label = self.label_files[idx]\n",
        "\n",
        "        input = np.load(path_to_input).reshape(64, 64, CHANNELS)\n",
        "        label = np.load(path_to_label)[self.label_idx].reshape(64, 64, 1)\n",
        "        input, label = self.input_transform(input), self.label_transform(label)\n",
        "\n",
        "        h_flip, v_flip = transforms.RandomHorizontalFlip(p=1), transforms.RandomVerticalFlip(p=1)\n",
        "\n",
        "        if randint(0, 9) > 4:\n",
        "            input, label = h_flip(input), h_flip(label)\n",
        "\n",
        "        if randint(0, 9) > 4:\n",
        "            input, label = v_flip(input), v_flip(label)\n",
        "\n",
        "        return input, label"
      ]
    },
    {
      "cell_type": "code",
      "execution_count": null,
      "metadata": {
        "colab": {
          "base_uri": "https://localhost:8080/",
          "height": 113
        },
        "id": "MLu9HuiXIsgt",
        "outputId": "40171046-a24d-424b-f240-170cc22161d3"
      },
      "outputs": [
        {
          "output_type": "execute_result",
          "data": {
            "text/plain": [
              "\"\\ninput_files = [input_folder + '/' + path for path in os.listdir(input_folder)]\\nlabel_files = [label_folder + '/' + path for path in os.listdir(label_folder)]\\n\\nctr, s = 0, [0 for _ in range(CHANNELS)]\\n\\nfor f in input_files + label_files:\\n    data = np.load(f)\\n    for channel in range(CHANNELS):\\n        for r in data[channel].flatten():\\n            s[channel] += r\\n            ctr += 1\\n\\nmeans = np.array(s) / ctr\\n\\ns_square = [0 for _ in range(CHANNELS)]\\nfor f in input_files + label_files:\\n    data = np.load(f)\\n    for channel in range(CHANNELS):\\n        for r in data[channel].flatten():\\n            s_square[channel] += (r - means[channel]) ** 2\\n\\nstdev = (np.array(s_square)/ctr) ** 0.5\\n\\nctr, means, stdev\\n\""
            ],
            "application/vnd.google.colaboratory.intrinsic+json": {
              "type": "string"
            }
          },
          "metadata": {},
          "execution_count": 108
        }
      ],
      "source": [
        "\n",
        "input_folder = '/content/drive/MyDrive/USGSData/processed_images/input2'\n",
        "label_folder = '/content/drive/MyDrive/USGSData/processed_images/target2'\n",
        "\"\"\"\n",
        "input_files = [input_folder + '/' + path for path in os.listdir(input_folder)]\n",
        "label_files = [label_folder + '/' + path for path in os.listdir(label_folder)]\n",
        "\n",
        "ctr, s = 0, [0 for _ in range(CHANNELS)]\n",
        "\n",
        "for f in input_files + label_files:\n",
        "    data = np.load(f)\n",
        "    for channel in range(CHANNELS):\n",
        "        for r in data[channel].flatten():\n",
        "            s[channel] += r\n",
        "            ctr += 1\n",
        "\n",
        "means = np.array(s) / ctr\n",
        "\n",
        "s_square = [0 for _ in range(CHANNELS)]\n",
        "for f in input_files + label_files:\n",
        "    data = np.load(f)\n",
        "    for channel in range(CHANNELS):\n",
        "        for r in data[channel].flatten():\n",
        "            s_square[channel] += (r - means[channel]) ** 2\n",
        "\n",
        "stdev = (np.array(s_square)/ctr) ** 0.5\n",
        "\n",
        "ctr, means, stdev\n",
        "\"\"\""
      ]
    },
    {
      "cell_type": "code",
      "execution_count": null,
      "metadata": {
        "colab": {
          "base_uri": "https://localhost:8080/"
        },
        "id": "vbjuY25H-QtD",
        "outputId": "ce1869b7-a218-4553-9203-3243fcf43fe1"
      },
      "outputs": [
        {
          "output_type": "stream",
          "name": "stdout",
          "text": [
            "torch.Size([7, 64, 64])\n",
            "torch.Size([1, 64, 64])\n"
          ]
        }
      ],
      "source": [
        "label_idx = 6\n",
        "\n",
        "means=(0.0032137, 0.01951275, 0.01347293, 0.03039954, 0.00624942, -0.01392061, 0.0490588)\n",
        "stdev=(0.04064116, 0.05769031, 0.03293696, 0.07551957, 0.03757489, 0.03575791, 0.11903611)\n",
        "\n",
        "input_transforms = transforms.Compose([\n",
        "    transforms.ToTensor(),\n",
        "    transforms.Normalize(means, stdev)\n",
        "])\n",
        "\n",
        "label_transforms = transforms.Compose([\n",
        "    transforms.ToTensor(),\n",
        "    transforms.Normalize((means[label_idx]), (stdev[label_idx]))\n",
        "])\n",
        "\n",
        "fire_data = FireDataset(input_folder, label_folder,\n",
        "                        input_transforms=input_transforms,\n",
        "                        label_transforms=label_transforms,\n",
        "                        label=label_idx)\n",
        "\n",
        "for image, label in fire_data:\n",
        "    print(image.shape)\n",
        "    print(label.shape)\n",
        "    break"
      ]
    },
    {
      "cell_type": "code",
      "execution_count": null,
      "metadata": {
        "colab": {
          "base_uri": "https://localhost:8080/",
          "height": 487
        },
        "id": "AEJ2Vs8u784l",
        "outputId": "1e0dabea-c51c-4ced-cab2-5ca65f1df004"
      },
      "outputs": [
        {
          "output_type": "display_data",
          "data": {
            "text/plain": [
              "<Figure size 640x480 with 8 Axes>"
            ],
            "image/png": "[encoded data removed]"
          },
          "metadata": {}
        }
      ],
      "source": [
        "import matplotlib.pyplot as plt\n",
        "\n",
        "ctr = 0\n",
        "all_pixels = [[] for _ in range(CHANNELS)]\n",
        "for image, label in fire_data:\n",
        "    for i in range(CHANNELS):\n",
        "        all_pixels[i] += image[i].flatten()\n",
        "    ctr += 1\n",
        "    if ctr >= 50:\n",
        "        break\n",
        "\n",
        "fig, axs = plt.subplots(4, 2, sharey=True, tight_layout=True)\n",
        "for i in range(CHANNELS):\n",
        "    axs[i // 2][i % 2].hist(all_pixels[i], bins=40)\n"
      ]
    },
    {
      "cell_type": "code",
      "execution_count": null,
      "metadata": {
        "id": "XOYn3S86FI-G",
        "colab": {
          "base_uri": "https://localhost:8080/"
        },
        "outputId": "3d54b7f0-237f-4bbd-e327-659fd7f0aa8d"
      },
      "outputs": [
        {
          "output_type": "stream",
          "name": "stdout",
          "text": [
            "torch.Size([16, 7, 64, 64])\n",
            "torch.Size([16, 1, 64, 64])\n"
          ]
        }
      ],
      "source": [
        "fire_data_loader = DataLoader(fire_data,\n",
        "                              batch_size=16,\n",
        "                              shuffle=True)\n",
        "\n",
        "for image, label in fire_data_loader:\n",
        "    print(image.shape)\n",
        "    print(label.shape)\n",
        "    break"
      ]
    },
    {
      "cell_type": "code",
      "execution_count": null,
      "metadata": {
        "id": "p-5yZDs9ta7K",
        "colab": {
          "base_uri": "https://localhost:8080/"
        },
        "outputId": "3856bbcd-bbfa-4088-a737-a2f18ae2edc8"
      },
      "outputs": [
        {
          "output_type": "execute_result",
          "data": {
            "text/plain": [
              "52"
            ]
          },
          "metadata": {},
          "execution_count": 112
        }
      ],
      "source": [
        "len(fire_data_loader)"
      ]
    },
    {
      "cell_type": "code",
      "execution_count": null,
      "metadata": {
        "id": "neAg0PDuX0-I",
        "colab": {
          "base_uri": "https://localhost:8080/"
        },
        "outputId": "41ec5ef6-2541-4944-b361-d3330ce0bd50"
      },
      "outputs": [
        {
          "output_type": "stream",
          "name": "stdout",
          "text": [
            "Fri Sep  8 06:32:20 2023       \n",
            "+-----------------------------------------------------------------------------+\n",
            "| NVIDIA-SMI 525.105.17   Driver Version: 525.105.17   CUDA Version: 12.0     |\n",
            "|-------------------------------+----------------------+----------------------+\n",
            "| GPU  Name        Persistence-M| Bus-Id        Disp.A | Volatile Uncorr. ECC |\n",
            "| Fan  Temp  Perf  Pwr:Usage/Cap|         Memory-Usage | GPU-Util  Compute M. |\n",
            "|                               |                      |               MIG M. |\n",
            "|===============================+======================+======================|\n",
            "|   0  Tesla T4            Off  | 00000000:00:04.0 Off |                    0 |\n",
            "| N/A   51C    P0    29W /  70W |   5313MiB / 15360MiB |      0%      Default |\n",
            "|                               |                      |                  N/A |\n",
            "+-------------------------------+----------------------+----------------------+\n",
            "                                                                               \n",
            "+-----------------------------------------------------------------------------+\n",
            "| Processes:                                                                  |\n",
            "|  GPU   GI   CI        PID   Type   Process name                  GPU Memory |\n",
            "|        ID   ID                                                   Usage      |\n",
            "|=============================================================================|\n",
            "+-----------------------------------------------------------------------------+\n"
          ]
        }
      ],
      "source": [
        "!nvidia-smi"
      ]
    },
    {
      "cell_type": "markdown",
      "metadata": {
        "id": "FknlZOgC85Vo"
      },
      "source": [
        "#Regression Using PyTorch"
      ]
    },
    {
      "cell_type": "code",
      "execution_count": null,
      "metadata": {
        "id": "t8tU3LGxaIqA",
        "colab": {
          "base_uri": "https://localhost:8080/"
        },
        "outputId": "82078470-deca-4da7-89c8-6d5356eb6633"
      },
      "outputs": [
        {
          "output_type": "execute_result",
          "data": {
            "text/plain": [
              "tensor([18.])"
            ]
          },
          "metadata": {},
          "execution_count": 114
        }
      ],
      "source": [
        "x = torch.ones(1, requires_grad=True)\n",
        "y = x + 2\n",
        "z = y**2 * 3\n",
        "z.backward()\n",
        "x.grad"
      ]
    },
    {
      "cell_type": "code",
      "execution_count": null,
      "metadata": {
        "id": "kN7UAGCnaUlv",
        "colab": {
          "base_uri": "https://localhost:8080/"
        },
        "outputId": "835cc7d2-4da4-451e-9d21-ceac12caccd9"
      },
      "outputs": [
        {
          "output_type": "stream",
          "name": "stdout",
          "text": [
            "fc1.weight Parameter containing:\n",
            "tensor([[0.0038]], requires_grad=True)\n",
            "fc1.bias Parameter containing:\n",
            "tensor([-0.3118], requires_grad=True)\n"
          ]
        }
      ],
      "source": [
        "x = np.arange(0, 10, 0.5)\n",
        "x = x.reshape(-1, 1)\n",
        "\n",
        "y = 2 + 3*x\n",
        "y = y.reshape(-1, 1)\n",
        "\n",
        "torch.seed()\n",
        "\n",
        "class Regression(nn.Module):\n",
        "    def __init__(self):\n",
        "        super().__init__()\n",
        "        self.fc1 = nn.Linear(1, 1)\n",
        "    def forward(self, x):\n",
        "        y = self.fc1(x)\n",
        "        return y\n",
        "\n",
        "model = Regression()\n",
        "for name, params in model.named_parameters():\n",
        "    print(name, params)"
      ]
    },
    {
      "cell_type": "code",
      "execution_count": null,
      "metadata": {
        "id": "dCPrkrFSd3VJ",
        "colab": {
          "base_uri": "https://localhost:8080/"
        },
        "outputId": "7cf9fa84-10c7-46b1-f8a6-7a0b8ad87def"
      },
      "outputs": [
        {
          "output_type": "execute_result",
          "data": {
            "text/plain": [
              "(torch.Size([20, 1]), torch.Size([20, 1]))"
            ]
          },
          "metadata": {},
          "execution_count": 116
        }
      ],
      "source": [
        "loss_fn = torch.nn.MSELoss()\n",
        "optimizer = torch.optim.SGD(model.parameters(), lr=0.01)\n",
        "epochs = 5000\n",
        "x = torch.tensor(x, dtype=torch.float32)\n",
        "y = torch.tensor(y, dtype=torch.float32)\n",
        "x.shape, y.shape"
      ]
    },
    {
      "cell_type": "code",
      "execution_count": null,
      "metadata": {
        "id": "KyueVhz2g22c"
      },
      "outputs": [],
      "source": [
        "for epoch in range(epochs):\n",
        "    y_pred = model(x)\n",
        "    loss = loss_fn(y_pred, y)\n",
        "    optimizer.zero_grad()\n",
        "    loss.backward()\n",
        "    optimizer.step()"
      ]
    },
    {
      "cell_type": "code",
      "execution_count": null,
      "metadata": {
        "id": "6y6mnT2Ag2Z2",
        "colab": {
          "base_uri": "https://localhost:8080/"
        },
        "outputId": "1a8764ad-ffa1-456a-a044-f27ce5600989"
      },
      "outputs": [
        {
          "output_type": "stream",
          "name": "stdout",
          "text": [
            "fc1.weight Parameter containing:\n",
            "tensor([[3.0000]], requires_grad=True)\n",
            "fc1.bias Parameter containing:\n",
            "tensor([2.0000], requires_grad=True)\n"
          ]
        }
      ],
      "source": [
        "\n",
        "for name, params in model.named_parameters():\n",
        "    print(name, params)"
      ]
    },
    {
      "cell_type": "markdown",
      "metadata": {
        "id": "QLNePw3Y9EAl"
      },
      "source": [
        "#Loading SMP Model"
      ]
    },
    {
      "cell_type": "code",
      "execution_count": null,
      "metadata": {
        "id": "G9Dh19Ai9T-4"
      },
      "outputs": [],
      "source": [
        "DEVICE = \"cuda\" if torch.cuda.is_available() else \"cpu\"\n",
        "\n",
        "model = smp.Unet(\"efficientnet-b7\", encoder_weights=\"imagenet\", in_channels=CHANNELS)\n",
        "model = model.to(DEVICE)\n",
        "\n",
        "head_training = True\n",
        "\n",
        "if not head_training:\n",
        "    for name, param in model.named_parameters():\n",
        "        if \"encoder\" in name:\n",
        "            param.requires_grad_(False)\n",
        "        print(name)"
      ]
    },
    {
      "cell_type": "code",
      "execution_count": null,
      "metadata": {
        "id": "HQk3fKL932EO"
      },
      "outputs": [],
      "source": [
        "loss_fn = nn.MSELoss()\n",
        "optimiser = torch.optim.AdamW(model.parameters(), lr=0.00025, weight_decay=0.01)\n",
        "epochs = 20\n",
        "batch_size = 32"
      ]
    },
    {
      "cell_type": "code",
      "execution_count": null,
      "metadata": {
        "id": "PS_4KGWQwHqs",
        "colab": {
          "base_uri": "https://localhost:8080/"
        },
        "outputId": "680f96d0-0e21-46eb-9ca9-09243499c844"
      },
      "outputs": [
        {
          "output_type": "stream",
          "name": "stderr",
          "text": [
            "/usr/local/lib/python3.10/dist-packages/torch/utils/data/dataloader.py:560: UserWarning: This DataLoader will create 4 worker processes in total. Our suggested max number of worker in current system is 2, which is smaller than what this DataLoader is going to create. Please be aware that excessive worker creation might get DataLoader running slow or even freeze, lower the worker number to avoid potential slowness/freeze if necessary.\n",
            "  warnings.warn(_create_warning_msg(\n"
          ]
        }
      ],
      "source": [
        "train_samples, test_samples = int(0.9 * len(fire_data)), len(fire_data) - int(0.9 * len(fire_data))\n",
        "train_dataset, val_dataset = torch.utils.data.random_split(fire_data, lengths=[train_samples, test_samples])\n",
        "\n",
        "trainloader = DataLoader(train_dataset, batch_size=batch_size, shuffle=True, num_workers=4)\n",
        "valloader = DataLoader(val_dataset, batch_size=batch_size, shuffle=False, num_workers=4)"
      ]
    },
    {
      "cell_type": "code",
      "execution_count": null,
      "metadata": {
        "id": "pWvE6Gm8O3Dx"
      },
      "outputs": [],
      "source": [
        "def train(model, device, epochs, optimizer, loss_fn, batch_size, trainloader, valloader):\n",
        "\n",
        "    log_training = {\"epoch\": [],\n",
        "                    \"training_loss\": [],\n",
        "                    \"training_acc\": [],\n",
        "                    \"validation_loss\": [],\n",
        "                    \"validation_acc\": []}\n",
        "\n",
        "    for epoch in range(1, epochs + 1):\n",
        "\n",
        "        print(f\"Starting Epoch {epoch}\")\n",
        "        training_losses, training_accuracies = [], []\n",
        "        validation_losses, validation_accuracies = [], []\n",
        "\n",
        "        model.train()\n",
        "\n",
        "        for image, label in tqdm(trainloader):\n",
        "\n",
        "            image, label = image.float(), label.float()\n",
        "            image, label = image.to(DEVICE), label.to(DEVICE)\n",
        "\n",
        "            optimizer.zero_grad()\n",
        "            out = model.forward(image)\n",
        "\n",
        "            loss = loss_fn(out, label)\n",
        "            training_losses.append(loss.item())\n",
        "\n",
        "            loss.backward()\n",
        "            optimizer.step()\n",
        "\n",
        "        model.eval()\n",
        "\n",
        "        for image, label in tqdm(valloader):\n",
        "\n",
        "            image, label = image.float(), label.float()\n",
        "            image, label = image.to(DEVICE), label.to(DEVICE)\n",
        "\n",
        "            with torch.no_grad():\n",
        "\n",
        "                out = model.forward(image)\n",
        "\n",
        "                loss = loss_fn(out, label)\n",
        "                validation_losses.append(loss.item())\n",
        "\n",
        "        training_loss_mean = np.mean(training_losses)\n",
        "        valid_loss_mean = np.mean(validation_losses)\n",
        "\n",
        "        log_training[\"epoch\"].append(epoch)\n",
        "        log_training[\"training_loss\"].append(training_loss_mean)\n",
        "        log_training[\"validation_loss\"].append(valid_loss_mean)\n",
        "\n",
        "        print(\"Training Loss:\", training_loss_mean)\n",
        "        print(\"Validation Loss:\", valid_loss_mean)\n",
        "\n",
        "    return log_training, model"
      ]
    },
    {
      "cell_type": "code",
      "execution_count": null,
      "metadata": {
        "id": "I0T9uPe_Pqf8",
        "colab": {
          "base_uri": "https://localhost:8080/"
        },
        "outputId": "b5b1c550-bf0c-4aab-d5f7-b791aa7e0254"
      },
      "outputs": [
        {
          "output_type": "stream",
          "name": "stdout",
          "text": [
            "Starting Epoch 1\n"
          ]
        },
        {
          "output_type": "stream",
          "name": "stderr",
          "text": [
            "100%|██████████| 24/24 [00:07<00:00,  3.02it/s]\n",
            "100%|██████████| 3/3 [00:00<00:00,  3.04it/s]\n"
          ]
        },
        {
          "output_type": "stream",
          "name": "stdout",
          "text": [
            "Training Loss: 6.031615932782491\n",
            "Validation Loss: 6.684011300404866\n",
            "Starting Epoch 2\n"
          ]
        },
        {
          "output_type": "stream",
          "name": "stderr",
          "text": [
            "100%|██████████| 24/24 [00:10<00:00,  2.39it/s]\n",
            "100%|██████████| 3/3 [00:01<00:00,  1.67it/s]\n"
          ]
        },
        {
          "output_type": "stream",
          "name": "stdout",
          "text": [
            "Training Loss: 6.050315419832866\n",
            "Validation Loss: 6.387601216634114\n",
            "Starting Epoch 3\n"
          ]
        },
        {
          "output_type": "stream",
          "name": "stderr",
          "text": [
            "100%|██████████| 24/24 [00:13<00:00,  1.76it/s]\n",
            "100%|██████████| 3/3 [00:01<00:00,  1.86it/s]\n"
          ]
        },
        {
          "output_type": "stream",
          "name": "stdout",
          "text": [
            "Training Loss: 6.076245208581288\n",
            "Validation Loss: 6.296313444773356\n",
            "Starting Epoch 4\n"
          ]
        },
        {
          "output_type": "stream",
          "name": "stderr",
          "text": [
            "100%|██████████| 24/24 [00:08<00:00,  2.80it/s]\n",
            "100%|██████████| 3/3 [00:01<00:00,  2.13it/s]\n"
          ]
        },
        {
          "output_type": "stream",
          "name": "stdout",
          "text": [
            "Training Loss: 6.045862416426341\n",
            "Validation Loss: 6.179444313049316\n",
            "Starting Epoch 5\n"
          ]
        },
        {
          "output_type": "stream",
          "name": "stderr",
          "text": [
            "100%|██████████| 24/24 [00:07<00:00,  3.11it/s]\n",
            "100%|██████████| 3/3 [00:00<00:00,  3.10it/s]\n"
          ]
        },
        {
          "output_type": "stream",
          "name": "stdout",
          "text": [
            "Training Loss: 6.075172642866771\n",
            "Validation Loss: 6.153155167897542\n",
            "Starting Epoch 6\n"
          ]
        },
        {
          "output_type": "stream",
          "name": "stderr",
          "text": [
            "100%|██████████| 24/24 [00:08<00:00,  2.75it/s]\n",
            "100%|██████████| 3/3 [00:00<00:00,  3.10it/s]\n"
          ]
        },
        {
          "output_type": "stream",
          "name": "stdout",
          "text": [
            "Training Loss: 6.039697666962941\n",
            "Validation Loss: 6.157818794250488\n",
            "Starting Epoch 7\n"
          ]
        },
        {
          "output_type": "stream",
          "name": "stderr",
          "text": [
            "100%|██████████| 24/24 [00:07<00:00,  3.06it/s]\n",
            "100%|██████████| 3/3 [00:01<00:00,  2.06it/s]\n"
          ]
        },
        {
          "output_type": "stream",
          "name": "stdout",
          "text": [
            "Training Loss: 6.089176714420319\n",
            "Validation Loss: 6.1406551996866865\n",
            "Starting Epoch 8\n"
          ]
        },
        {
          "output_type": "stream",
          "name": "stderr",
          "text": [
            "100%|██████████| 24/24 [00:08<00:00,  2.90it/s]\n",
            "100%|██████████| 3/3 [00:00<00:00,  3.08it/s]\n"
          ]
        },
        {
          "output_type": "stream",
          "name": "stdout",
          "text": [
            "Training Loss: 6.072279433409373\n",
            "Validation Loss: 6.098822116851807\n",
            "Starting Epoch 9\n"
          ]
        },
        {
          "output_type": "stream",
          "name": "stderr",
          "text": [
            "100%|██████████| 24/24 [00:08<00:00,  2.83it/s]\n",
            "100%|██████████| 3/3 [00:00<00:00,  3.03it/s]\n"
          ]
        },
        {
          "output_type": "stream",
          "name": "stdout",
          "text": [
            "Training Loss: 6.126145442326863\n",
            "Validation Loss: 6.131529490152995\n",
            "Starting Epoch 10\n"
          ]
        },
        {
          "output_type": "stream",
          "name": "stderr",
          "text": [
            "100%|██████████| 24/24 [00:07<00:00,  3.17it/s]\n",
            "100%|██████████| 3/3 [00:01<00:00,  2.24it/s]\n"
          ]
        },
        {
          "output_type": "stream",
          "name": "stdout",
          "text": [
            "Training Loss: 6.031417071819305\n",
            "Validation Loss: 6.07771364847819\n",
            "Starting Epoch 11\n"
          ]
        },
        {
          "output_type": "stream",
          "name": "stderr",
          "text": [
            "100%|██████████| 24/24 [00:08<00:00,  2.70it/s]\n",
            "100%|██████████| 3/3 [00:00<00:00,  3.07it/s]\n"
          ]
        },
        {
          "output_type": "stream",
          "name": "stdout",
          "text": [
            "Training Loss: 6.0292759736378985\n",
            "Validation Loss: 6.083453973134358\n",
            "Starting Epoch 12\n"
          ]
        },
        {
          "output_type": "stream",
          "name": "stderr",
          "text": [
            "100%|██████████| 24/24 [00:09<00:00,  2.43it/s]\n",
            "100%|██████████| 3/3 [00:01<00:00,  2.42it/s]\n"
          ]
        },
        {
          "output_type": "stream",
          "name": "stdout",
          "text": [
            "Training Loss: 6.052130202452342\n",
            "Validation Loss: 6.1117838223775225\n",
            "Starting Epoch 13\n"
          ]
        },
        {
          "output_type": "stream",
          "name": "stderr",
          "text": [
            "100%|██████████| 24/24 [00:07<00:00,  3.12it/s]\n",
            "100%|██████████| 3/3 [00:01<00:00,  2.34it/s]\n"
          ]
        },
        {
          "output_type": "stream",
          "name": "stdout",
          "text": [
            "Training Loss: 6.059448917706807\n",
            "Validation Loss: 6.110286871592204\n",
            "Starting Epoch 14\n"
          ]
        },
        {
          "output_type": "stream",
          "name": "stderr",
          "text": [
            "100%|██████████| 24/24 [00:08<00:00,  2.73it/s]\n",
            "100%|██████████| 3/3 [00:00<00:00,  3.08it/s]\n"
          ]
        },
        {
          "output_type": "stream",
          "name": "stdout",
          "text": [
            "Training Loss: 5.99137548605601\n",
            "Validation Loss: 6.129072825113933\n",
            "Starting Epoch 15\n"
          ]
        },
        {
          "output_type": "stream",
          "name": "stderr",
          "text": [
            "100%|██████████| 24/24 [00:08<00:00,  2.90it/s]\n",
            "100%|██████████| 3/3 [00:01<00:00,  2.64it/s]\n"
          ]
        },
        {
          "output_type": "stream",
          "name": "stdout",
          "text": [
            "Training Loss: 6.140669643878937\n",
            "Validation Loss: 6.08471663792928\n",
            "Starting Epoch 16\n"
          ]
        },
        {
          "output_type": "stream",
          "name": "stderr",
          "text": [
            "100%|██████████| 24/24 [00:07<00:00,  3.11it/s]\n",
            "100%|██████████| 3/3 [00:00<00:00,  3.09it/s]\n"
          ]
        },
        {
          "output_type": "stream",
          "name": "stdout",
          "text": [
            "Training Loss: 6.0690997044245405\n",
            "Validation Loss: 6.086564222971599\n",
            "Starting Epoch 17\n"
          ]
        },
        {
          "output_type": "stream",
          "name": "stderr",
          "text": [
            "100%|██████████| 24/24 [00:08<00:00,  2.67it/s]\n",
            "100%|██████████| 3/3 [00:01<00:00,  2.92it/s]\n"
          ]
        },
        {
          "output_type": "stream",
          "name": "stdout",
          "text": [
            "Training Loss: 5.988346695899963\n",
            "Validation Loss: 6.086498419443767\n",
            "Starting Epoch 18\n"
          ]
        },
        {
          "output_type": "stream",
          "name": "stderr",
          "text": [
            "100%|██████████| 24/24 [00:07<00:00,  3.03it/s]\n",
            "100%|██████████| 3/3 [00:01<00:00,  2.11it/s]\n"
          ]
        },
        {
          "output_type": "stream",
          "name": "stdout",
          "text": [
            "Training Loss: 6.116633077462514\n",
            "Validation Loss: 6.136237780253093\n",
            "Starting Epoch 19\n"
          ]
        },
        {
          "output_type": "stream",
          "name": "stderr",
          "text": [
            "100%|██████████| 24/24 [00:08<00:00,  2.96it/s]\n",
            "100%|██████████| 3/3 [00:00<00:00,  3.11it/s]\n"
          ]
        },
        {
          "output_type": "stream",
          "name": "stdout",
          "text": [
            "Training Loss: 6.062257091204326\n",
            "Validation Loss: 6.11095650990804\n",
            "Starting Epoch 20\n"
          ]
        },
        {
          "output_type": "stream",
          "name": "stderr",
          "text": [
            "100%|██████████| 24/24 [00:08<00:00,  2.75it/s]\n",
            "100%|██████████| 3/3 [00:00<00:00,  3.02it/s]"
          ]
        },
        {
          "output_type": "stream",
          "name": "stdout",
          "text": [
            "Training Loss: 6.061240116755168\n",
            "Validation Loss: 6.13885513941447\n"
          ]
        },
        {
          "output_type": "stream",
          "name": "stderr",
          "text": [
            "\n"
          ]
        }
      ],
      "source": [
        "log, model = train(model=model,\n",
        "                   device=DEVICE,\n",
        "                   epochs=epochs,\n",
        "                   optimizer=optimizer,\n",
        "                   loss_fn=loss_fn,\n",
        "                   batch_size=batch_size,\n",
        "                   trainloader=trainloader,\n",
        "                   valloader=valloader)"
      ]
    },
    {
      "cell_type": "code",
      "execution_count": null,
      "metadata": {
        "id": "InNQuCvBhI4X",
        "colab": {
          "base_uri": "https://localhost:8080/",
          "height": 472
        },
        "outputId": "b25086e6-3793-4ddf-91f4-dfe8d75b3434"
      },
      "outputs": [
        {
          "output_type": "display_data",
          "data": {
            "text/plain": [
              "<Figure size 640x480 with 1 Axes>"
            ],
            "image/png": "[encoded data removed]"
          },
          "metadata": {}
        }
      ],
      "source": [
        "plt.plot(log[\"epoch\"], log[\"training_loss\"],  \"r\",  label=\"With Residuals Training Loss\")\n",
        "plt.plot(log[\"epoch\"], log[\"validation_loss\"], \"g\", label=\"With Residuals Validation Loss\")\n",
        "\n",
        "plt.xlabel(\"Epochs\")\n",
        "plt.ylabel(\"MSELoss\")\n",
        "plt.title(\"Training Performance\")\n",
        "plt.show()"
      ]
    },
    {
      "cell_type": "code",
      "execution_count": null,
      "metadata": {
        "id": "FAuhj9k4upOV",
        "colab": {
          "base_uri": "https://localhost:8080/"
        },
        "outputId": "7e952705-0c41-4ac6-b95d-e14fdb7be1fb"
      },
      "outputs": [
        {
          "output_type": "execute_result",
          "data": {
            "text/plain": [
              "(5.988346695899963, 6.07771364847819)"
            ]
          },
          "metadata": {},
          "execution_count": 125
        }
      ],
      "source": [
        "min(log[\"training_loss\"]), min(log[\"validation_loss\"])"
      ]
    },
    {
      "cell_type": "code",
      "execution_count": null,
      "metadata": {
        "id": "LRHdR18OcmEh"
      },
      "outputs": [],
      "source": [
        "def show_band(img, title='', size=(8,8), cmap='jet'):\n",
        "    print(title+' Shape: ', img.shape)\n",
        "    fig = plt.figure(figsize=size)\n",
        "    plt.imshow(img.reshape(img.shape[0], img.shape[1]), cmap=cmap, vmax=5, vmin=-5)\n",
        "    plt.axis('off')\n",
        "    plt.colorbar()\n",
        "    plt.title(title)\n",
        "    plt.show()"
      ]
    },
    {
      "cell_type": "code",
      "execution_count": null,
      "metadata": {
        "id": "0rsD9lP2U90T",
        "colab": {
          "base_uri": "https://localhost:8080/",
          "height": 1000
        },
        "outputId": "85ad274e-0866-4de1-de6d-d26efa19c8af"
      },
      "outputs": [
        {
          "output_type": "stream",
          "name": "stdout",
          "text": [
            "Error Shape:  (64, 64)\n"
          ]
        },
        {
          "output_type": "display_data",
          "data": {
            "text/plain": [
              "<Figure size 800x800 with 2 Axes>"
            ],
            "image/png": "[encoded data removed]"
          },
          "metadata": {}
        },
        {
          "output_type": "stream",
          "name": "stdout",
          "text": [
            "Error Shape:  (64, 64)\n"
          ]
        },
        {
          "output_type": "display_data",
          "data": {
            "text/plain": [
              "<Figure size 800x800 with 2 Axes>"
            ],
            "image/png": "[encoded data removed]"
          },
          "metadata": {}
        },
        {
          "output_type": "stream",
          "name": "stdout",
          "text": [
            "Error Shape:  (64, 64)\n"
          ]
        },
        {
          "output_type": "display_data",
          "data": {
            "text/plain": [
              "<Figure size 800x800 with 2 Axes>"
            ],
            "image/png": "[encoded data removed]"
          },
          "metadata": {}
        }
      ],
      "source": [
        "import numpy\n",
        "\n",
        "ctr = 0\n",
        "for X, label in fire_data:\n",
        "    X, label = X.to(DEVICE), label.to(DEVICE)\n",
        "    X, label = X.float(), label.float()\n",
        "    X, label = torch.reshape(X, (1, 7, 64, 64)), torch.reshape(label, (1, 1, 64, 64))\n",
        "    preds = np.array(model(X).detach().to('cpu').squeeze())\n",
        "    label = np.array(label.to('cpu').squeeze())\n",
        "    diff = (preds - label)\n",
        "    show_band(diff, title=\"Error\")\n",
        "    ctr += 1\n",
        "    if ctr > 2:\n",
        "        break"
      ]
    },
    {
      "cell_type": "code",
      "execution_count": null,
      "metadata": {
        "id": "KAHlIgpZ0hrw"
      },
      "outputs": [],
      "source": []
    }
  ],
  "metadata": {
    "accelerator": "GPU",
    "colab": {
      "collapsed_sections": [
        "FknlZOgC85Vo"
      ],
      "provenance": []
    },
    "kernelspec": {
      "display_name": "Python 3",
      "name": "python3"
    },
    "language_info": {
      "name": "python"
    }
  },
  "nbformat": 4,
  "nbformat_minor": 0
}